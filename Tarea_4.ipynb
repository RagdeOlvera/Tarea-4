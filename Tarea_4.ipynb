{
  "nbformat": 4,
  "nbformat_minor": 0,
  "metadata": {
    "colab": {
      "name": "Tarea_4.ipynb",
      "provenance": []
    },
    "kernelspec": {
      "name": "python3",
      "display_name": "Python 3"
    },
    "language_info": {
      "name": "python"
    }
  },
  "cells": [
    {
      "cell_type": "code",
      "metadata": {
        "colab": {
          "base_uri": "https://localhost:8080/"
        },
        "id": "IO2KLntMeKSV",
        "outputId": "e5ad8c7b-f580-483f-f404-49be26ded507"
      },
      "source": [
        "import math\n",
        "print(\"Programa que para resolver ecuaciones cuadraticas del tipo:\\n\\n[aX^2+bX+c]\\n\")\n",
        "print(\"Por medio de la formula general. [chicharronera]\\n\")\n",
        "coeficiente_a = int (input(\"Ingrese el coeficiente a: \"))\n",
        "coeficiente_b = int (input(\"Ingrese el coeficiente b: \"))\n",
        "coeficiente_c = int (input(\"Ingrese el coeficiente c: \"))\n",
        "d = pow(coeficiente_b,2)-(4*(coeficiente_a)*(coeficiente_c))\n",
        "print(\"\\nLa raiz cuadrada hasta este punto es: \", d) #Esta linea solo es de control. Para verificar que se l¿relizan correctamente las operaciones.\n",
        "if d > 0:\n",
        "  x = (-coeficiente_b + math.sqrt(d))/(2*coeficiente_a)\n",
        "  y = (-coeficiente_b - math.sqrt(d))/(2*coeficiente_a)\n",
        "  print(\"\\n x1 = \",x)\n",
        "  print(\"\\n x2 = \",y)\n",
        "else:\n",
        "  print(\"La ecuacion no tiene solucion dentro de los numeros reales.\")\n",
        "  real = (coeficiente_a*2)\n",
        "  real = (coeficiente_b/real)\n",
        "  d = (d *(-1))\n",
        "  raiz=(math.sqrt(d))\n",
        "  imagen=(raiz/(2*coeficiente_a))\n",
        "  print(\"\\nLas factores son imaginarios y son:\\n\\n\")\n",
        "  print(\"x1 = \", real, \" + \", imagen, \"i como imaginario.\")\n",
        "  print(\"\\nx2 = \", real, \" - \", imagen, \"i como imaginario \")"
      ],
      "execution_count": null,
      "outputs": [
        {
          "output_type": "stream",
          "name": "stdout",
          "text": [
            "Programa que para resolver ecuaciones cuadraticas del tipo:\n",
            "\n",
            "[aX^2+bX+c]\n",
            "\n",
            "Por medio de la formula general. [chicharronera]\n",
            "\n",
            "Ingrese el coeficiente a: 4\n",
            "Ingrese el coeficiente b: 5\n",
            "Ingrese el coeficiente c: 6\n",
            "\n",
            "La raiz cuadrada hasta este punto es:  -71\n",
            "La ecuacion no tiene solucion dentro de los numeros reales.\n",
            "\n",
            "Las factores son imaginarios y son:\n",
            "\n",
            "\n",
            "x1 =  0.625  +  1.0532687216470449 i como imaginario.\n",
            "\n",
            "x2 =  0.625  -  1.0532687216470449 i como imaginario \n"
          ]
        }
      ]
    }
  ]
}